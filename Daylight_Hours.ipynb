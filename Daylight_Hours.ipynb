{
 "cells": [
  {
   "cell_type": "code",
   "execution_count": null,
   "metadata": {},
   "outputs": [],
   "source": [
    "# An appromixation of the number of hours of daylight at any given latitude on a given day of the year"
   ]
  },
  {
   "cell_type": "code",
   "execution_count": 27,
   "metadata": {},
   "outputs": [],
   "source": [
    "import math\n",
    "import matplotlib.pyplot as plt\n",
    "from datetime import datetime"
   ]
  },
  {
   "cell_type": "code",
   "execution_count": 31,
   "metadata": {},
   "outputs": [],
   "source": [
    "# formula per Ecological Modeling, volume 80 (1995) pp. 87-95, called \"A Model Comparison for Daylength as a Function of Latitude and Day of the Year.\"\n",
    "# see more details - http://mathforum.org/library/drmath/view/56478.html\n",
    "# Latitude in degrees, postive for northern hemisphere, negative for southern\n",
    "# Day 1 = Jan 1\n",
    "def day_length(day_of_year, latitude):\n",
    "    P = math.asin(0.39795 * math.cos(0.2163108 + 2 * math.atan(0.9671396 * math.tan(.00860 * (day_of_year - 186)))))\n",
    "    pi = math.pi\n",
    "    day_light_hours = 24 - (24 / pi) * math.acos((math.sin(0.8333 * pi / 180) + math.sin(latitude * pi / 180) * math.sin(P)) / (math.cos(latitude * pi / 180) * math.cos(P)))\n",
    "\n",
    "    return day_light_hours"
   ]
  },
  {
   "cell_type": "code",
   "execution_count": 34,
   "metadata": {},
   "outputs": [
    {
     "data": {
      "image/png": "[encoded data removed]",
      "text/plain": [
       "<Figure size 432x288 with 1 Axes>"
      ]
     },
     "metadata": {
      "needs_background": "light"
     },
     "output_type": "display_data"
    },
    {
     "name": "stdout",
     "output_type": "stream",
     "text": [
      "Hours of daylight today: 9.154623740491061\n",
      "Hours of daylight tomorrow: 9.169190986964573\n",
      "Min Daylight Hours This Year = 9.071057602618508\n",
      "Max Daylight Hours This Year = 15.286031004072237\n"
     ]
    }
   ],
   "source": [
    "# plot out a full year (non-leap) for the given latitude. Boston in this example\n",
    "latitude = 42.3605\n",
    "\n",
    "f = plt.figure()\n",
    "plt.ylabel('Hours of Daylight')\n",
    "plt.xlabel('Day of Year')\n",
    "min_light = 24.0\n",
    "max_light = 0.0\n",
    "for day in range(1,365):\n",
    "    length_hours = day_length(day,latitude)\n",
    "    \n",
    "    if length_hours > max_light:\n",
    "        max_light = length_hours\n",
    "    \n",
    "    if length_hours < min_light:\n",
    "        min_light = length_hours\n",
    "        \n",
    "    plt.scatter(day,length_hours, c=\"black\")\n",
    "\n",
    "# highlight today's value\n",
    "day_of_year = datetime.now().timetuple().tm_yday\n",
    "plt.scatter(day_of_year,day_length(day_of_year,latitude),c=\"red\",marker='v',s=50)\n",
    "plt.show()\n",
    "\n",
    "print(\"Hours of daylight today: \" + str(day_length(day_of_year,latitude)))\n",
    "print(\"Hours of daylight tomorrow: \" + str(day_length(day_of_year+1,latitude)))\n",
    "print(\"Min Daylight Hours This Year = \" + str(min_light))\n",
    "print(\"Max Daylight Hours This Year = \" + str(max_light))"
   ]
  },
  {
   "cell_type": "code",
   "execution_count": null,
   "metadata": {},
   "outputs": [],
   "source": []
  }
 ],
 "metadata": {
  "kernelspec": {
   "display_name": "Python 3",
   "language": "python",
   "name": "python3"
  },
  "language_info": {
   "codemirror_mode": {
    "name": "ipython",
    "version": 3
   },
   "file_extension": ".py",
   "mimetype": "text/x-python",
   "name": "python",
   "nbconvert_exporter": "python",
   "pygments_lexer": "ipython3",
   "version": "3.6.4"
  }
 },
 "nbformat": 4,
 "nbformat_minor": 2
}
